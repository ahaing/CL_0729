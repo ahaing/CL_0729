{
 "cells": [
  {
   "cell_type": "markdown",
   "metadata": {},
   "source": [
    "github copilot USD10/M"
   ]
  },
  {
   "cell_type": "markdown",
   "metadata": {},
   "source": [
    "HOHOHO"
   ]
  },
  {
   "cell_type": "code",
   "execution_count": null,
   "metadata": {},
   "outputs": [],
   "source": [
    "# font\n",
    "# 內建的 python: standard libary (和 build-in function 不同)\n",
    "# random (python 內建的)\n",
    "# random.random() => random 裡面的 random function (內建 function = 內建函式)\n",
    "\n",
    "\n",
    "# 實數分布 => 實數代表有小數點的\n",
    "\n"
   ]
  }
 ],
 "metadata": {
  "kernelspec": {
   "display_name": "Python 3",
   "language": "python",
   "name": "python3"
  },
  "language_info": {
   "name": "python",
   "version": "3.10.12"
  },
  "orig_nbformat": 4
 },
 "nbformat": 4,
 "nbformat_minor": 2
}
