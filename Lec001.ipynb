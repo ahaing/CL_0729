{
 "cells": [
  {
   "cell_type": "code",
   "execution_count": null,
   "metadata": {},
   "outputs": [],
<<<<<<< HEAD
   "source": []
=======
   "source": [
    "http://localhost:8888/tree?token=0f05b5dbf8d069c4896265759919fe45b02ef3c70984ecd2"
   ]
  },
  {
   "cell_type": "markdown",
   "metadata": {},
   "source": [
    "uname --all\n",
    "\n",
    "pip install notebook\n"
   ]
>>>>>>> 36465c98f0abd1540654649c2261863a1840e10a
  }
 ],
 "metadata": {
  "kernelspec": {
   "display_name": "Python 3",
   "language": "python",
   "name": "python3"
  },
  "language_info": {
   "name": "python",
<<<<<<< HEAD
   "version": "3.11.3"
=======
   "version": "3.10.12"
>>>>>>> 36465c98f0abd1540654649c2261863a1840e10a
  },
  "orig_nbformat": 4
 },
 "nbformat": 4,
 "nbformat_minor": 2
}
