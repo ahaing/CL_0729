{
 "cells": [
  {
   "cell_type": "code",
   "execution_count": null,
   "metadata": {},
   "outputs": [],
   "source": [
    "# http://localhost:8888/tree?token=0f05b5dbf8d069c4896265pip install notebook759919fe45b02ef3c70984ecd2"
   ]
  },
  {
   "cell_type": "markdown",
   "metadata": {},
   "source": [
    "uname --all\n",
    "\n",
    "pip install notebook\n",
    "\n",
    "現在不可以關掉的server \n",
    "http://localhost:8888/tree?token=0f05b5dbf8d069c4896265pip install notebook759919fe45b02ef3c70984ecd2\n",
    "\n",
    "(真正安裝的jupyter server，要關掉要ctrl c\n",
    "=> Shutdown this Jupyter server (y/[n])? )"
   ]
  },
  {
   "cell_type": "code",
   "execution_count": 1,
   "metadata": {},
   "outputs": [],
   "source": [
    "# from matplotlib.pyplot import matplotlib\n",
    "import matplotlib.pyplot as plit"
   ]
  }
 ],
 "metadata": {
  "kernelspec": {
   "display_name": "Python 3",
   "language": "python",
   "name": "python3"
  },
  "language_info": {
   "codemirror_mode": {
    "name": "ipython",
    "version": 3
   },
   "file_extension": ".py",
   "mimetype": "text/x-python",
   "name": "python",
   "nbconvert_exporter": "python",
   "pygments_lexer": "ipython3",
   "version": "3.10.12"
  },
  "orig_nbformat": 4
 },
 "nbformat": 4,
 "nbformat_minor": 2
}
