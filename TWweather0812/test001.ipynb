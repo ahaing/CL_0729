{
 "cells": [
  {
   "cell_type": "markdown",
   "metadata": {},
   "source": [
    "參考lesson 10.3.py"
   ]
  },
  {
   "cell_type": "code",
   "execution_count": 2,
   "metadata": {},
   "outputs": [],
   "source": [
    "import requests\n",
    "def download_data()->dict:\n",
    "    url = 'https://opendata.cwb.gov.tw/fileapi/v1/opendataapi/F-C0032-001?Authorization=rdec-key-123-45678-011121314&format=JSON'\n",
    "\n",
    "    response = requests.get(url)\n",
    "    if response.status_code == 200:\n",
    "        print(\"下載成功\")\n",
    "    return response.json()\n"
   ]
  },
  {
   "cell_type": "code",
   "execution_count": 1,
   "metadata": {},
   "outputs": [],
   "source": [
    "def jsonDict_csvList(selfDefjson)-> list[dict]: # -> 用來寫說明傳出的資料是甚麼，避免之後忘記\n",
    "    # 多行註解一定要寫在第一行裡面\n",
    "    '''\n",
    "    - 傳入josn的資料結構\n",
    "    - 取出需要的資料\n",
    "    - 組合成list[dict]\n",
    "    '''\n",
    "    location = selfDefjson['cwbopendata']['dataset']['location']\n",
    "    weather_list = []\n",
    "    for item in location:\n",
    "        city_item = {}\n",
    "        city_item['城市'] = item['locationName']\n",
    "        city_item['啟始時間'] = item['weatherElement'][1]['time'][0]['startTime']\n",
    "        city_item['結束時間'] = item['weatherElement'][1]['time'][0]['endTime']\n",
    "        city_item['最高溫度'] = float(item['weatherElement'][1]['time'][0]['parameter']['parameterName'])\n",
    "        city_item['最低溫度'] = float(item['weatherElement'][2]['time'][0]['parameter']['parameterName'])\n",
    "        city_item['感覺'] = item['weatherElement'][3]['time'][0]['parameter']['parameterName']\n",
    "        weather_list.append(city_item)\n",
    "    return weather_list\n"
   ]
  },
  {
   "cell_type": "code",
   "execution_count": 10,
   "metadata": {},
   "outputs": [],
   "source": [
    "# 沒有傳出東西 -> none\n",
    "# fileSelfName 是自己命名別人傳入的參數 (檔案名)\n",
    "# dataInput 是傳入的參數資料，把別人傳入的資料稱為 dataInput (需要的資料)\n",
    "import csv\n",
    "def save_csv(dataInput:list[dict],fileSelfName) -> None:\n",
    "    '''\n",
    "    - 將list[dict]儲存\n",
    "    - 參數fileName要儲存的檔案名\n",
    "    '''\n",
    "    with open(fileSelfName,mode='w',encoding='utf-8',newline='') as file:\n",
    "        fileSelfName = ['城市', '啟始時間','結束時間','最高溫度','最低溫度','感覺']\n",
    "        writer = csv.DictWriter(file,fieldnames=fileSelfName)\n",
    "        writer.writeheader()\n",
    "        writer.writerows(dataInput)"
   ]
  },
  {
   "cell_type": "code",
   "execution_count": 11,
   "metadata": {},
   "outputs": [
    {
     "name": "stdout",
     "output_type": "stream",
     "text": [
      "下載成功\n"
     ]
    }
   ],
   "source": [
    "# 主要的程式在這裡，整個程式的結構會比較清楚，把其他的 funciton 寫在其他區塊裡\n",
    "json_data = download_data() #下載資料\n",
    "csv_list = jsonDict_csvList(json_data) #解析 json 的資料成為csv檔案\n",
    "save_csv(csv_list, \"今天天氣.csv\") # 執行 '儲存資料'\n"
   ]
  },
  {
   "cell_type": "markdown",
   "metadata": {},
   "source": [
    "\n",
    "# chatGPT 搜尋 \n",
    "\"使用PYTHON查詢今天日期\" 查標準函式庫\n",
    "\n",
    "class datetime.timedelta(days=0, seconds=0, microseconds=0, illiseconds=0, minutes=0, hours=0, weeks=0)\n",
    "透過 class 初始化\n",
    "\n",
    "class datetime.datetime\n",
    "日期和时间的结合。属性：year, month, day, hour, minute, second, microsecond, and tzinfo.\n",
    "\n",
    "# chat:Timezone\n",
    "import pytz\n"
   ]
  }
 ],
 "metadata": {
  "kernelspec": {
   "display_name": "Python 3",
   "language": "python",
   "name": "python3"
  },
  "language_info": {
   "codemirror_mode": {
    "name": "ipython",
    "version": 3
   },
   "file_extension": ".py",
   "mimetype": "text/x-python",
   "name": "python",
   "nbconvert_exporter": "python",
   "pygments_lexer": "ipython3",
   "version": "3.10.12"
  },
  "orig_nbformat": 4
 },
 "nbformat": 4,
 "nbformat_minor": 2
}
