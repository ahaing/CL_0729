{
 "cells": [
  {
   "cell_type": "code",
   "execution_count": null,
   "metadata": {},
   "outputs": [],
   "source": [
    "import matplotlib.py\n",
    "\n",
    "# Python 套件生態系中：Numpy、Pandas、Matplotlib、Scipy 以及 scikit-learn 是常見用來進行資料分析和機器學習（machine learning）、資料科學應用的重要套件和模組。"
   ]
  },
  {
   "cell_type": "code",
   "execution_count": 2,
   "metadata": {},
   "outputs": [
    {
     "name": "stdout",
     "output_type": "stream",
     "text": [
      "c:\\Users\\ying_chen\\AppData\\Local\\Programs\\Python\\Python311\\Lib\\site-packages\\matplotlib\\__init__.py\n"
     ]
    }
   ],
   "source": [
    "import matplotlib\n",
    "print(matplotlib.__file__)\n",
    "\n",
    "# 將字型檔案複製到 matplotlib\\mpi-dat\\fonts\\ttt即可"
    "# lib/python3.7/site-packages/matplotlib 即為安裝路徑將字型檔複製到 matplotlib\mpl-data\fonts\ttf\n",
    "# 接著打開剛剛下載的字體壓縮檔，你會發現許多個字體檔，只要選擇一個順眼的字體丟到matplotlib\mpl-data\fonts\ttf即可\n",
    "# 刪除當前使用者matplotlib 的緩衝檔案\n",
    "# $cd ~/.cache/matplotlib\n", 
    "# $rm -rf *.*\n",
   ]
  }
 ],
 "metadata": {
  "kernelspec": {
   "display_name": "Python 3",
   "language": "python",
   "name": "python3"
  },
  "language_info": {
   "codemirror_mode": {
    "name": "ipython",
    "version": 3
   },
   "file_extension": ".py",
   "mimetype": "text/x-python",
   "name": "python",
   "nbconvert_exporter": "python",
   "pygments_lexer": "ipython3",
   "version": "3.11.3"
  },
  "orig_nbformat": 4
 },
 "nbformat": 4,
 "nbformat_minor": 2
}
